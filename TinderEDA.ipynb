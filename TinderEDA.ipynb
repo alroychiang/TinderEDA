{
 "cells": [
  {
   "cell_type": "markdown",
   "id": "c40cf386-efb1-4f8b-a5ff-df6f0bfb2950",
   "metadata": {},
   "source": [
    "**Univariate distribution**  \n",
    "Only a single variable under consideration. It does not deal with causes nor relationships. The main purpose to to find patterns within this one variable.  \n",
    "Patterns such as: Central Tendency and Dispersion  \n",
    "Central Tendency: mean, median, mode  \n",
    "Dispersion: Range, Variance, Standard Deviation, Maximum, Minimum values, Interquartile Range  \n",
    "Visualize the data: Pie charts, bar graphs, histograms\n",
    "Existence of Outliers"
   ]
  },
  {
   "cell_type": "markdown",
   "id": "3232e9bb-21f6-4af4-a0ed-2bcc9637432d",
   "metadata": {},
   "source": [
    "**Bivariate distribution**  \n",
    "Involves 2 features/ variables to find the relationship between them. One of these variables is often independant while the other is a dependant variable.  \n",
    "Visualize the data: scatter plots, side by side boxplots, curve fitting, correlation analysis\n",
    "Common statistical methods: Regression analysis, Correlation coefficient analysis  "
   ]
  },
  {
   "cell_type": "markdown",
   "id": "b5b28337-e188-403d-ab67-ddcd65db2116",
   "metadata": {},
   "source": [
    "**Mulitvariate distribution**  \n",
    "Involves 3 or more variables. It is an advance method to study large datasets.  \n",
    "Common statistical methods: Additive Tree, Cluster Analysis, Correspondence Analysis, Factor Analysis, MANOVA, multidimensional scaling, mulitple regression analysis, principal component analysis and reduncy analysis"
   ]
  },
  {
   "cell_type": "markdown",
   "id": "a2591e64-6356-403e-8c77-259f4270d68b",
   "metadata": {},
   "source": [
    "**Types of EDA**  \n",
    "EDA consist of two methods. One is the non-graphical way and the other is the graphical one. \n",
    "Non-graphical methods involve the calculation of summary statistics while the graphical way is the use of diagrams for visualization"
   ]
  },
  {
   "cell_type": "markdown",
   "id": "ac98d526-048d-41a6-a72e-442650655fec",
   "metadata": {},
   "source": [
    "**Objectives of conducting EDA**\n",
    "* What is the distribution of the Dataset?\n",
    "* Are there any missing numerical values, outliers or anomalies in the dataset?\n",
    "* What are the underlying assumptions in the dataset? (?)\n",
    "* Are there relationships between variables in the dataset? \n",
    "* Prepare dataset to be fed for machine learning\n",
    "* What is the most suitable algorithm for a given dataset (?)"
   ]
  },
  {
   "cell_type": "markdown",
   "id": "d53aecd8-6e21-4742-845d-dbb2171ea071",
   "metadata": {},
   "source": [
    "**Tinder Dataset**  \n",
    "For this project I'll be using a Tinder dataset which shows data of users that finding themselves in a relationship through the use of the Tinder dating application. This mini dataset consist of questions answered by millennials from differernt Universities.  \n",
    "The Dataset can be found here: https://www.kaggle.com/datasets/benroshan/tinder-millennial-match-rate  \n",
    "Created by: ADAM HALPER"
   ]
  },
  {
   "cell_type": "markdown",
   "id": "427cdf17-a97e-4aea-8de2-276ffd68fe0e",
   "metadata": {},
   "source": [
    "**Variables/ Features are categorized into 3 categories: continous, discrete or categorical**  \n",
    "* ID -User id  \n",
    "* Segment type : Medium of Usage (categorical)  \n",
    "* Segment Description: Name of Universities (categorical)  \n",
    "* Answer: Do you use tinder ? (categorical)  \n",
    "* Count: Number of Matches (discrete)  \n",
    "* Percentage: % of matches (continuous)  \n",
    "* It became a relationship- Success of relationship (Target) (categorical)  "
   ]
  },
  {
   "cell_type": "code",
   "execution_count": 14,
   "id": "4724a209-feb6-4870-a549-83478b167f6e",
   "metadata": {},
   "outputs": [],
   "source": [
    "import numpy as np\n",
    "import pandas as pd\n",
    "import seaborn as sns\n",
    "import matplotlib.pyplot as plt"
   ]
  },
  {
   "cell_type": "code",
   "execution_count": 15,
   "id": "4c4e2243-9b15-4724-94ee-74c139f46c62",
   "metadata": {},
   "outputs": [],
   "source": [
    "df = pd.read_csv(\"Tinder Millennial Match Rate Dataset.csv\", sep = \",\", header = 0)"
   ]
  },
  {
   "cell_type": "markdown",
   "id": "3a8176bb-3f94-4a66-ad38-4b1f42a23ee0",
   "metadata": {},
   "source": [
    "**df.info()**  \n",
    "gives us information about column names, existence of null values and data datatypes"
   ]
  },
  {
   "cell_type": "code",
   "execution_count": 17,
   "id": "6a14d887-d0d1-4cbf-9e96-7959df0ee216",
   "metadata": {
    "scrolled": true
   },
   "outputs": [
    {
     "name": "stdout",
     "output_type": "stream",
     "text": [
      "<class 'pandas.core.frame.DataFrame'>\n",
      "RangeIndex: 453 entries, 0 to 452\n",
      "Data columns (total 7 columns):\n",
      " #   Column                    Non-Null Count  Dtype  \n",
      "---  ------                    --------------  -----  \n",
      " 0   ID                        453 non-null    int64  \n",
      " 1   Segment Type              453 non-null    object \n",
      " 2   Segment Description       453 non-null    object \n",
      " 3   Answer                    453 non-null    object \n",
      " 4   Count                     453 non-null    int64  \n",
      " 5   Percentage                453 non-null    float64\n",
      " 6   It became a Relationship  453 non-null    object \n",
      "dtypes: float64(1), int64(2), object(4)\n",
      "memory usage: 24.9+ KB\n"
     ]
    }
   ],
   "source": [
    "df.info()"
   ]
  },
  {
   "cell_type": "markdown",
   "id": "ed55018f-c771-477c-93ac-d3f5ef4d5484",
   "metadata": {},
   "source": [
    "**Observation**:  \n",
    "'object' datatype represent String values under their respective columns. This makes sense because these values are under 'Categorical' category under their respective column/feature/variable."
   ]
  },
  {
   "cell_type": "markdown",
   "id": "ace136cd-9ddc-40d1-bf2f-5dbfeb02579e",
   "metadata": {},
   "source": [
    "**df.describe()**  \n",
    "allows us to detect outliers in our dataset"
   ]
  },
  {
   "cell_type": "code",
   "execution_count": 20,
   "id": "f99a31b5-39d2-4c22-8059-1e83bb729b89",
   "metadata": {
    "scrolled": true
   },
   "outputs": [
    {
     "data": {
      "text/html": [
       "<div>\n",
       "<style scoped>\n",
       "    .dataframe tbody tr th:only-of-type {\n",
       "        vertical-align: middle;\n",
       "    }\n",
       "\n",
       "    .dataframe tbody tr th {\n",
       "        vertical-align: top;\n",
       "    }\n",
       "\n",
       "    .dataframe thead th {\n",
       "        text-align: right;\n",
       "    }\n",
       "</style>\n",
       "<table border=\"1\" class=\"dataframe\">\n",
       "  <thead>\n",
       "    <tr style=\"text-align: right;\">\n",
       "      <th></th>\n",
       "      <th>ID</th>\n",
       "      <th>Count</th>\n",
       "      <th>Percentage</th>\n",
       "    </tr>\n",
       "  </thead>\n",
       "  <tbody>\n",
       "    <tr>\n",
       "      <th>count</th>\n",
       "      <td>453.000000</td>\n",
       "      <td>453.000000</td>\n",
       "      <td>453.000000</td>\n",
       "    </tr>\n",
       "    <tr>\n",
       "      <th>mean</th>\n",
       "      <td>293333.000000</td>\n",
       "      <td>22.373068</td>\n",
       "      <td>0.331141</td>\n",
       "    </tr>\n",
       "    <tr>\n",
       "      <th>std</th>\n",
       "      <td>261.828188</td>\n",
       "      <td>136.996075</td>\n",
       "      <td>0.316157</td>\n",
       "    </tr>\n",
       "    <tr>\n",
       "      <th>min</th>\n",
       "      <td>292881.000000</td>\n",
       "      <td>0.000000</td>\n",
       "      <td>0.000000</td>\n",
       "    </tr>\n",
       "    <tr>\n",
       "      <th>25%</th>\n",
       "      <td>293107.000000</td>\n",
       "      <td>0.000000</td>\n",
       "      <td>0.000000</td>\n",
       "    </tr>\n",
       "    <tr>\n",
       "      <th>50%</th>\n",
       "      <td>293333.000000</td>\n",
       "      <td>1.000000</td>\n",
       "      <td>0.250000</td>\n",
       "    </tr>\n",
       "    <tr>\n",
       "      <th>75%</th>\n",
       "      <td>293559.000000</td>\n",
       "      <td>4.000000</td>\n",
       "      <td>0.500000</td>\n",
       "    </tr>\n",
       "    <tr>\n",
       "      <th>max</th>\n",
       "      <td>293785.000000</td>\n",
       "      <td>1969.000000</td>\n",
       "      <td>1.000000</td>\n",
       "    </tr>\n",
       "  </tbody>\n",
       "</table>\n",
       "</div>"
      ],
      "text/plain": [
       "                  ID        Count  Percentage\n",
       "count     453.000000   453.000000  453.000000\n",
       "mean   293333.000000    22.373068    0.331141\n",
       "std       261.828188   136.996075    0.316157\n",
       "min    292881.000000     0.000000    0.000000\n",
       "25%    293107.000000     0.000000    0.000000\n",
       "50%    293333.000000     1.000000    0.250000\n",
       "75%    293559.000000     4.000000    0.500000\n",
       "max    293785.000000  1969.000000    1.000000"
      ]
     },
     "execution_count": 20,
     "metadata": {},
     "output_type": "execute_result"
    }
   ],
   "source": [
    "df.describe()"
   ]
  },
  {
   "cell_type": "markdown",
   "id": "019e9435-c279-442a-a7dd-25a31e034d39",
   "metadata": {},
   "source": [
    "**Observation:**  \n",
    "ID columns can be ignored in this case. The numerical value under this column acts as a categorical value more, instead of a discrete/ continuous value.\n",
    "\n",
    "We can observe that there exist certain outliers in the dataset as the maximum number of matches obtained by some people have reached 1969 counts although the average number of matches in the dataset is 22. Even after accounting for extreme cases away from the average value, 22 +- 136.996 (which approximates to 159 matches), 1969 matches is clearly an outlier. "
   ]
  },
  {
   "cell_type": "markdown",
   "id": "60a4ce1e-75d1-4627-a7e2-64bce8323737",
   "metadata": {},
   "source": [
    "**Checking for missing values in the dataset**  \n",
    "df.isna().sum() shows the number of NA values in each column respectively which is a neat way to identify any NA values.  "
   ]
  },
  {
   "cell_type": "code",
   "execution_count": 23,
   "id": "eb90e692-52bc-4f0e-9a88-bf0bcc82a341",
   "metadata": {
    "scrolled": true
   },
   "outputs": [
    {
     "data": {
      "text/plain": [
       "ID                          0\n",
       "Segment Type                0\n",
       "Segment Description         0\n",
       "Answer                      0\n",
       "Count                       0\n",
       "Percentage                  0\n",
       "It became a Relationship    0\n",
       "dtype: int64"
      ]
     },
     "execution_count": 23,
     "metadata": {},
     "output_type": "execute_result"
    }
   ],
   "source": [
    "df.isnull().sum()"
   ]
  },
  {
   "cell_type": "markdown",
   "id": "ca56760f-0c4f-4ad8-8ab5-12073a8a9d91",
   "metadata": {},
   "source": [
    "**Observations**:  \n",
    "we can see that there are no NA values in all columns"
   ]
  },
  {
   "cell_type": "markdown",
   "id": "809659dc-ceeb-41aa-9b06-485b217ca0b7",
   "metadata": {},
   "source": [
    "**pd.notnull(df).all()**  \n",
    "pd.notnull(df) changes ALL values in the dataframe into either 'True' or 'False' values. if the call is empty, NA, pd.notnull(df) will turn that cell value into 'False'\n",
    "\n",
    "**pd.notnull(df).all()**  \n",
    "collapses/ summarizes the entire dataframe into their respective columns only. For easy analysis.  \n",
    "\n",
    "we can prove this code works by replacing a single value into a copy dataframe and applying the above code."
   ]
  },
  {
   "cell_type": "code",
   "execution_count": 26,
   "id": "6bfa5029-4018-49ba-adb9-7ebf8997dcd7",
   "metadata": {
    "scrolled": true
   },
   "outputs": [],
   "source": [
    "df1 = df.replace(df.iloc[0,1], np.nan)"
   ]
  },
  {
   "cell_type": "code",
   "execution_count": 27,
   "id": "0c5314c6-21d1-4596-89c8-65ac205d916d",
   "metadata": {},
   "outputs": [
    {
     "data": {
      "text/plain": [
       "ID                           True\n",
       "Segment Type                False\n",
       "Segment Description          True\n",
       "Answer                       True\n",
       "Count                        True\n",
       "Percentage                   True\n",
       "It became a Relationship     True\n",
       "dtype: bool"
      ]
     },
     "execution_count": 27,
     "metadata": {},
     "output_type": "execute_result"
    }
   ],
   "source": [
    "pd.notnull(df1).all()"
   ]
  },
  {
   "cell_type": "markdown",
   "id": "740d1560-a8aa-4bd7-bdc9-75ac116815e0",
   "metadata": {},
   "source": [
    "**Observation**  \n",
    "We can observe that the column we inserted a NaN value in did reflect 'False' when using pd.notnull(df).all(). This shows that the code is effective in identifying NaN values."
   ]
  },
  {
   "cell_type": "code",
   "execution_count": 29,
   "id": "f779a1c8-472a-4065-9916-83d37c59a407",
   "metadata": {},
   "outputs": [
    {
     "data": {
      "text/plain": [
       "ID                          True\n",
       "Segment Type                True\n",
       "Segment Description         True\n",
       "Answer                      True\n",
       "Count                       True\n",
       "Percentage                  True\n",
       "It became a Relationship    True\n",
       "dtype: bool"
      ]
     },
     "execution_count": 29,
     "metadata": {},
     "output_type": "execute_result"
    }
   ],
   "source": [
    "pd.notnull(df).all()"
   ]
  },
  {
   "cell_type": "markdown",
   "id": "9b1a4ba1-2e22-42ac-9641-a01ee6556b90",
   "metadata": {},
   "source": [
    "**Observation**  \n",
    "Applying the function back to the original dataframe, no NaN values exist in the dataframe"
   ]
  },
  {
   "cell_type": "markdown",
   "id": "64de6753-e497-4e86-be2b-cbb91df66295",
   "metadata": {},
   "source": [
    "**Univariate Analysis**  \n",
    "Since the column/features 'Count: Number of Matches (discrete)' and 'Percentage: % of matches (continuous)' are the only numerical columns that has numbers as their values, we'd be focusing on these in our Univarate Analysis only. \n",
    "\n",
    "- Central Tendency analysis are measures that help identify a central value that describes the probability distribution. It is a way to determine the \"center\" or \"location\" of the distribution. Common methods of finding the \"Central Tendency\" are: Mean, Median or Mode. The most common measure of central tendency is the mean/ average. For skewed distributions or when there exist outliers in the dataset, using the Median may be preferred.  \n",
    "\n",
    "- Dispersion Analysis is a measure of how far data points can be found away from the \"center\" (the spread). Common methods used in dispersion analysis are Variance, Standard Deviation and Inter Quartile Range (IQR). Variance shows us how spreaded out a set of numbers are. Standard Deviation refers to how spread out a set of numbers are in relation to the mean of the dataset. Both Variance and Standard deviation are useful methods of measuring the spread of a dataset. Interquartile range can be best understood with a boxplot."
   ]
  },
  {
   "cell_type": "markdown",
   "id": "eeba816c-26e0-4513-9dec-5c36c2975341",
   "metadata": {},
   "source": [
    "However, categorical values E.g Blue, Red etc can also be used to conduct Univariate Analysis, we'll just focus on 'Count' column for this segment."
   ]
  },
  {
   "cell_type": "markdown",
   "id": "b8f39dd5-dc5c-417c-9608-8d3c4257285a",
   "metadata": {},
   "source": [
    "**Central Tendency Analysis**"
   ]
  },
  {
   "cell_type": "code",
   "execution_count": 113,
   "id": "4c65156d-3537-4be9-a657-af6ac3753f04",
   "metadata": {},
   "outputs": [
    {
     "name": "stdout",
     "output_type": "stream",
     "text": [
      "3      0\n",
      "4      0\n",
      "5      0\n",
      "18     0\n",
      "19     2\n",
      "      ..\n",
      "448    4\n",
      "449    1\n",
      "450    2\n",
      "451    3\n",
      "452    1\n",
      "Name: Count, Length: 353, dtype: int64\n"
     ]
    }
   ],
   "source": [
    "indx = df['Count'] < 6\n",
    "filtered_count_col = df['Count'].loc[indx]\n",
    "print(filtered_count_col)"
   ]
  },
  {
   "cell_type": "code",
   "execution_count": 35,
   "id": "357ed35d-5782-4f06-85d0-ec9effacff61",
   "metadata": {},
   "outputs": [
    {
     "data": {
      "image/png": "[encoded data removed]",
      "text/plain": [
       "<Figure size 1300x200 with 1 Axes>"
      ]
     },
     "metadata": {},
     "output_type": "display_data"
    }
   ],
   "source": [
    "fig1 = plt.figure(1, figsize=(13, 2)) # explicitly creating figure\n",
    "ax1 = fig1.add_subplot(1, 1, 1) # explicitly creating subplot\n",
    "\n",
    "ax1.boxplot(filtered_count_col, vert = False, manage_ticks = True)\n",
    "\n",
    "ax1.set_xlabel('Count Column (No. of Matches)')\n",
    "ax1.set_yticks([1])\n",
    "ax1.set_yticklabels(['boxplot1'])\n",
    "\n",
    "# explicity set 0th quartile, 1st, 2nd, 3rd and 4th percentage quartiles depending on your need to identify values at different quartile locations. Default%: 0, 25, 50, 75, 100\n",
    "quantiles = np.quantile(filtered_count_col, np.array([0, 0.25, 0.5, 0.75, 1]))\n",
    "# zorder (in front or behind the graph plot), 0th stands for 'all the way to the back'. \n",
    "# ymin & ymax expects a min and max value for each quantile position so that they know where to start the line and where to stop the line. \n",
    "# this kwargs expects a list whose index represent the quartile position of the ymin/ymax value respectively. try ymix = [2,1,0,0,0] to see what happens\n",
    "ax1.vlines(quantiles, ymin = [0] * quantiles.size, ymax = [1] * quantiles.size, color='b', ls='-', lw=0.5, zorder=0)\n",
    "# keep the boxplot centered in the output image. y-axis referes to boxplot1 axis in this case\n",
    "ax1.set_ylim(0.5, 1.5)\n",
    "# override the default x-tick labels. However, in this case the quantiles coincide with the default labels. so this function is not needed actually\n",
    "ax1.set_xticks(quantiles)\n",
    "\n",
    "plt.show()"
   ]
  },
  {
   "cell_type": "markdown",
   "id": "2cdc6241-079a-4a47-951f-f2d2dab7e41e",
   "metadata": {},
   "source": [
    "**Observation**  \n",
    "I chose to filter the rows of 'Count' column to focus on people that has 6 matches or less only. The number of people that have 6 or less matches make up the majority of the dataset, a total of 353 rows of 453 within the dataset. 33% (100 people) are considered outliers as they exceed the maximum value (threshold) calculated by the boxplot() function. The min value is determined by taking (Q1 - 1.5 * Interquartile range) = minimum value and the max value is calculated with (Q3 + 1.5 * IQR) = maximum value.  \n",
    "\n",
    "Here the IQR is between 75-percentile and 0-percentile (3rd quartile and 1st quartile respectively), which means it is 2-0 = 2."
   ]
  },
  {
   "cell_type": "code",
   "execution_count": 37,
   "id": "1a3b33ab-ed22-4c04-b457-7e13612e1cec",
   "metadata": {
    "scrolled": true
   },
   "outputs": [
    {
     "data": {
      "text/plain": [
       "count    353.000000\n",
       "mean       1.209632\n",
       "std        1.331958\n",
       "min        0.000000\n",
       "25%        0.000000\n",
       "50%        1.000000\n",
       "75%        2.000000\n",
       "max        5.000000\n",
       "Name: Count, dtype: float64"
      ]
     },
     "execution_count": 37,
     "metadata": {},
     "output_type": "execute_result"
    }
   ],
   "source": [
    "filtered_count_col.describe()"
   ]
  },
  {
   "attachments": {},
   "cell_type": "markdown",
   "id": "91e907a7-a6b3-4eec-b7f3-ad17bd12c7dd",
   "metadata": {},
   "source": [
    "**Dispersion Analysis**  \n",
    "Since we have looked at Central Tendency Analysis previously (Mean, Median, Standard Deviation, IQR, min & max), these values can only be obtained from quantitative variables (columns) unlike catergorical variables. Although it is possible, we would need to apply data transformation to those categorical values first and convert them into quantitative variables.  \n",
    "\n",
    "In dispersion analysis, we look at skewness and kurtosis to identify the shape of the variable ( 'Count' in this case )  \n",
    "\n",
    "**Skewness**  \n",
    "Is an indicator of how symetric the graph would look like if your variable is plotted. Or how much 'dissymmetry' your graph looks like.  \n",
    "Negative Skewness means that the 'tail' of the graph is on the left. and the 'mean' value is located towards the tail. **Mean** < **Median** < **Mode**  \n",
    "Zero Skewness shows that the data graph is symmetrical E.g normal distribution  \n",
    "Positive Skewness means that the 'tail' of the graph is on the right. and the 'mean' value is located towards the tail. **Mean** > **Median** > **Mode**"
   ]
  },
  {
   "cell_type": "markdown",
   "id": "5157852b-0a28-486e-9320-34e9b51139dc",
   "metadata": {},
   "source": [
    "<img src=\"skewness.jpg\" width=\"400\" height=\"300\" style=\"display:inline-block;\"><img src=\"skewness2.png\" width=\"300\" height=\"200\" style=\"display:inline-block;\">"
   ]
  },
  {
   "cell_type": "code",
   "execution_count": 40,
   "id": "f6c65806-b90d-44bb-bc81-d29bb8a49d1a",
   "metadata": {},
   "outputs": [
    {
     "data": {
      "text/plain": [
       "np.float64(1.1413809355676823)"
      ]
     },
     "execution_count": 40,
     "metadata": {},
     "output_type": "execute_result"
    }
   ],
   "source": [
    "filtered_count_col.skew()"
   ]
  },
  {
   "cell_type": "markdown",
   "id": "cf094c94-88d3-4d0f-8aef-f412381dfcee",
   "metadata": {},
   "source": [
    "The skew value above is 1.14138. The 'count' column is slightly positively skewed (right skewed).\n",
    "Since we are not dealing with time-series data but discrete values instead, \n",
    "\n",
    "**Reference ranges of skewness**  \n",
    "\n",
    "-0.5 to 0.5 means that the data is fair symmetrical  \n",
    "-1 to -0.5 means that the data is negatively skewed (anything > -1 shows extreme negative skewness)   \n",
    "0.5 to 1 means that the data is positively skewed (anything > 1 shows extreme positive skewness)  \n",
    "\n",
    "we can double check with a graph"
   ]
  },
  {
   "cell_type": "code",
   "execution_count": 100,
   "id": "2951fd6c-b854-43da-8629-d047c8f06ea2",
   "metadata": {
    "scrolled": true
   },
   "outputs": [
    {
     "data": {
      "text/plain": [
       "<matplotlib.legend.Legend at 0x19c933f9090>"
      ]
     },
     "execution_count": 100,
     "metadata": {},
     "output_type": "execute_result"
    },
    {
     "data": {
      "image/png": "[encoded data removed]",
      "text/plain": [
       "<Figure size 1300x200 with 1 Axes>"
      ]
     },
     "metadata": {},
     "output_type": "display_data"
    }
   ],
   "source": [
    "fig1 = plt.figure(1, figsize=(13, 2)) # explicitly creating figure\n",
    "ax1 = fig1.add_subplot(1, 1, 1) # explicitly creating subplot\n",
    "\n",
    "# x-axis = row index (I.E ID of person on tinder app)\n",
    "# y-axis = number of matches corresponding to that person. Plot orginal graph values\n",
    "ax1.plot(filtered_count_col.index, filtered_count_col.values, label = \"data\")\n",
    "\n",
    "p_coefficient = np.polyfit(filtered_count_col.index, filtered_count_col.values, 7)\n",
    "#poly-graph function itself\n",
    "p_func = np.poly1d(p_coefficient)\n",
    "# creating a evenly spaced 'dotted-values' for polygraph\n",
    "p_xVal = np.linspace(filtered_count_col.index.min(), filtered_count_col.index.max(), 500)\n",
    "# obtaining y-values\n",
    "p_yVal = p_func(p_xVal)\n",
    "\n",
    "# plot poly graph\n",
    "ax1.plot(p_xVal, p_yVal, color='red', label='fit', linestyle='--')\n",
    "ax1.legend()"
   ]
  },
  {
   "cell_type": "markdown",
   "id": "65bdb9b3-e2b8-4ebd-b1e9-60ecf3660684",
   "metadata": {},
   "source": [
    "As we can see the graph is sightly skewed towards the right. As indicated by 1.141 skewness value. Although this is a Univariate analysis, the 'Count' column is considered a Index-Based Data (e.g., row index, ranking data)"
   ]
  },
  {
   "cell_type": "code",
   "execution_count": 13,
   "id": "bf1bb66f-d47c-45ad-ad72-d17bdcec7d5c",
   "metadata": {
    "scrolled": true
   },
   "outputs": [
    {
     "data": {
      "text/plain": [
       "(453, 7)"
      ]
     },
     "execution_count": 13,
     "metadata": {},
     "output_type": "execute_result"
    }
   ],
   "source": [
    "df.shape"
   ]
  },
  {
   "cell_type": "markdown",
   "id": "2bf55daf-2da6-4e5c-a148-d2c580b5a86e",
   "metadata": {},
   "source": [
    "plot of number of matches each person has\n",
    "default theme"
   ]
  },
  {
   "cell_type": "code",
   "execution_count": 19,
   "id": "9c5cf38a-b14b-488a-a8e2-1189c7dabe79",
   "metadata": {},
   "outputs": [],
   "source": [
    "sns.set_theme()"
   ]
  },
  {
   "cell_type": "code",
   "execution_count": 15,
   "id": "507db738-42a6-4e7d-9d81-dd0718b72d4d",
   "metadata": {
    "scrolled": true
   },
   "outputs": [
    {
     "data": {
      "text/plain": [
       "np.int64(9)"
      ]
     },
     "execution_count": 15,
     "metadata": {},
     "output_type": "execute_result"
    }
   ],
   "source": [
    "num_outliers = (df['Count'] > 300).sum()\n",
    "num_outliers"
   ]
  },
  {
   "cell_type": "markdown",
   "id": "928e5047-e702-4b08-a485-b10bccb41099",
   "metadata": {},
   "source": [
    "Exclude found outliers  "
   ]
  },
  {
   "cell_type": "code",
   "execution_count": 16,
   "id": "a72b0250-16d7-42ed-9189-2c4c111d30f9",
   "metadata": {
    "scrolled": true
   },
   "outputs": [
    {
     "data": {
      "text/html": [
       "<div>\n",
       "<style scoped>\n",
       "    .dataframe tbody tr th:only-of-type {\n",
       "        vertical-align: middle;\n",
       "    }\n",
       "\n",
       "    .dataframe tbody tr th {\n",
       "        vertical-align: top;\n",
       "    }\n",
       "\n",
       "    .dataframe thead th {\n",
       "        text-align: right;\n",
       "    }\n",
       "</style>\n",
       "<table border=\"1\" class=\"dataframe\">\n",
       "  <thead>\n",
       "    <tr style=\"text-align: right;\">\n",
       "      <th></th>\n",
       "      <th>ID</th>\n",
       "      <th>Segment Type</th>\n",
       "      <th>Segment Description</th>\n",
       "      <th>Answer</th>\n",
       "      <th>Count</th>\n",
       "      <th>Percentage</th>\n",
       "      <th>It became a Relationship</th>\n",
       "    </tr>\n",
       "  </thead>\n",
       "  <tbody>\n",
       "    <tr>\n",
       "      <th>0</th>\n",
       "      <td>292881</td>\n",
       "      <td>Mobile</td>\n",
       "      <td>Mobile respondents</td>\n",
       "      <td>Yes</td>\n",
       "      <td>797</td>\n",
       "      <td>0.207</td>\n",
       "      <td>Yes</td>\n",
       "    </tr>\n",
       "    <tr>\n",
       "      <th>1</th>\n",
       "      <td>292883</td>\n",
       "      <td>Mobile</td>\n",
       "      <td>Mobile respondents</td>\n",
       "      <td>No</td>\n",
       "      <td>1969</td>\n",
       "      <td>0.511</td>\n",
       "      <td>No</td>\n",
       "    </tr>\n",
       "    <tr>\n",
       "      <th>2</th>\n",
       "      <td>292885</td>\n",
       "      <td>Mobile</td>\n",
       "      <td>Mobile respondents</td>\n",
       "      <td>I don't use Tinder</td>\n",
       "      <td>1090</td>\n",
       "      <td>0.283</td>\n",
       "      <td>Yes</td>\n",
       "    </tr>\n",
       "    <tr>\n",
       "      <th>6</th>\n",
       "      <td>292893</td>\n",
       "      <td>Gender</td>\n",
       "      <td>Male respondents</td>\n",
       "      <td>Yes</td>\n",
       "      <td>472</td>\n",
       "      <td>0.213</td>\n",
       "      <td>Yes</td>\n",
       "    </tr>\n",
       "    <tr>\n",
       "      <th>7</th>\n",
       "      <td>292895</td>\n",
       "      <td>Gender</td>\n",
       "      <td>Male respondents</td>\n",
       "      <td>No</td>\n",
       "      <td>1172</td>\n",
       "      <td>0.528</td>\n",
       "      <td>No</td>\n",
       "    </tr>\n",
       "    <tr>\n",
       "      <th>8</th>\n",
       "      <td>292897</td>\n",
       "      <td>Gender</td>\n",
       "      <td>Male respondents</td>\n",
       "      <td>I don't use Tinder</td>\n",
       "      <td>574</td>\n",
       "      <td>0.259</td>\n",
       "      <td>No</td>\n",
       "    </tr>\n",
       "    <tr>\n",
       "      <th>9</th>\n",
       "      <td>292899</td>\n",
       "      <td>Gender</td>\n",
       "      <td>Female respondents</td>\n",
       "      <td>Yes</td>\n",
       "      <td>325</td>\n",
       "      <td>0.198</td>\n",
       "      <td>No</td>\n",
       "    </tr>\n",
       "    <tr>\n",
       "      <th>10</th>\n",
       "      <td>292901</td>\n",
       "      <td>Gender</td>\n",
       "      <td>Female respondents</td>\n",
       "      <td>No</td>\n",
       "      <td>797</td>\n",
       "      <td>0.487</td>\n",
       "      <td>Yes</td>\n",
       "    </tr>\n",
       "    <tr>\n",
       "      <th>11</th>\n",
       "      <td>292903</td>\n",
       "      <td>Gender</td>\n",
       "      <td>Female respondents</td>\n",
       "      <td>I don't use Tinder</td>\n",
       "      <td>516</td>\n",
       "      <td>0.315</td>\n",
       "      <td>No</td>\n",
       "    </tr>\n",
       "  </tbody>\n",
       "</table>\n",
       "</div>"
      ],
      "text/plain": [
       "        ID Segment Type Segment Description              Answer  Count  \\\n",
       "0   292881       Mobile  Mobile respondents                 Yes    797   \n",
       "1   292883       Mobile  Mobile respondents                  No   1969   \n",
       "2   292885       Mobile  Mobile respondents  I don't use Tinder   1090   \n",
       "6   292893       Gender    Male respondents                 Yes    472   \n",
       "7   292895       Gender    Male respondents                  No   1172   \n",
       "8   292897       Gender    Male respondents  I don't use Tinder    574   \n",
       "9   292899       Gender  Female respondents                 Yes    325   \n",
       "10  292901       Gender  Female respondents                  No    797   \n",
       "11  292903       Gender  Female respondents  I don't use Tinder    516   \n",
       "\n",
       "    Percentage It became a Relationship  \n",
       "0        0.207                      Yes  \n",
       "1        0.511                       No  \n",
       "2        0.283                      Yes  \n",
       "6        0.213                      Yes  \n",
       "7        0.528                       No  \n",
       "8        0.259                       No  \n",
       "9        0.198                       No  \n",
       "10       0.487                      Yes  \n",
       "11       0.315                       No  "
      ]
     },
     "execution_count": 16,
     "metadata": {},
     "output_type": "execute_result"
    }
   ],
   "source": [
    "outlier_df = df[df['Count'] > 300]\n",
    "outlier_df"
   ]
  },
  {
   "cell_type": "code",
   "execution_count": 17,
   "id": "8f39c408-373f-43d0-884f-be93a0af6f5f",
   "metadata": {},
   "outputs": [
    {
     "data": {
      "text/plain": [
       "(444, 7)"
      ]
     },
     "execution_count": 17,
     "metadata": {},
     "output_type": "execute_result"
    }
   ],
   "source": [
    "filtered_df = df.drop(outlier_df.index.tolist(), axis = 0)\n",
    "filtered_df.shape"
   ]
  },
  {
   "cell_type": "code",
   "execution_count": 20,
   "id": "0a1596a4-08d1-4d84-9176-73d36cbf7961",
   "metadata": {
    "scrolled": true
   },
   "outputs": [
    {
     "data": {
      "text/plain": [
       "<seaborn.axisgrid.FacetGrid at 0x1bfeb541d10>"
      ]
     },
     "execution_count": 20,
     "metadata": {},
     "output_type": "execute_result"
    },
    {
     "data": {
      "image/png": "[encoded data removed]",
      "text/plain": [
       "<Figure size 500x500 with 1 Axes>"
      ]
     },
     "metadata": {},
     "output_type": "display_data"
    }
   ],
   "source": [
    "sns.relplot(data = filtered_df, x = 'ID', y = 'Count') "
   ]
  },
  {
   "cell_type": "markdown",
   "id": "80237fd6-f5ff-4e2c-bc14-d2ef78c9076a",
   "metadata": {},
   "source": [
    "can imagine bob, susan, tom have [ 5, 1, 1 ] matches respectively. the y-axis will indicate 2 counts at One-th index on the X-Axis.   \n",
    "and y-axis will indicate 1 count at the fifth index on the X-Axis  "
   ]
  },
  {
   "cell_type": "code",
   "execution_count": 102,
   "id": "196befc8-c8ad-4a2a-b943-87d9988c239a",
   "metadata": {},
   "outputs": [
    {
     "data": {
      "text/plain": [
       "Text(0, 0.5, 'No. of Tinder IDs that have X number of Matches')"
      ]
     },
     "execution_count": 102,
     "metadata": {},
     "output_type": "execute_result"
    },
    {
     "data": {
      "image/png": "[encoded data removed]",
      "text/plain": [
       "<Figure size 640x480 with 1 Axes>"
      ]
     },
     "metadata": {},
     "output_type": "display_data"
    }
   ],
   "source": [
    "# alternate code to plot: sns.histplot(x = filtered_df['Count'])\n",
    "sns.histplot(data=filtered_df, x = \"Count\")\n",
    "plt.xlabel('No. of Matches per Tinder ID')\n",
    "plt.ylabel('No. of Tinder IDs that have X number of Matches')"
   ]
  },
  {
   "cell_type": "code",
   "execution_count": 96,
   "id": "580fc375-5303-4c81-b16d-74e3f880f454",
   "metadata": {},
   "outputs": [
    {
     "data": {
      "text/plain": [
       "np.float64(3.8252028583783284)"
      ]
     },
     "execution_count": 96,
     "metadata": {},
     "output_type": "execute_result"
    }
   ],
   "source": [
    "# my data is skewed to the left\n",
    "filtered_df['Count'].skew()"
   ]
  },
  {
   "cell_type": "code",
   "execution_count": 1,
   "id": "b2832212-c966-435d-87e6-64e45140f603",
   "metadata": {},
   "outputs": [],
   "source": [
    "import os"
   ]
  },
  {
   "cell_type": "code",
   "execution_count": 4,
   "id": "ac2f322f-d757-4273-84fb-28911ebb2028",
   "metadata": {},
   "outputs": [
    {
     "data": {
      "text/plain": [
       "1"
      ]
     },
     "execution_count": 4,
     "metadata": {},
     "output_type": "execute_result"
    }
   ],
   "source": [
    "os.system(\"export PATH=/Library/TeX/texbin:$PATH\")"
   ]
  },
  {
   "cell_type": "code",
   "execution_count": 6,
   "id": "2749c365-aad4-4ced-80f0-22f23e7a5bc7",
   "metadata": {},
   "outputs": [
    {
     "data": {
      "text/plain": [
       "1"
      ]
     },
     "execution_count": 6,
     "metadata": {},
     "output_type": "execute_result"
    }
   ],
   "source": [
    "os.system(\"jupyter nbconvert TinderEDA.ipynb --to pdf\")"
   ]
  },
  {
   "cell_type": "markdown",
   "id": "1684c794-4dda-45d8-b680-4b5197b2c2e8",
   "metadata": {},
   "source": [
    "Reference:   \n",
    "Github Username: Prashant Banerjee  \n",
    "Repository title: Exploratory Data Analysis with Python.ipynb  \n",
    "Link: https://gist.github.com/pb111/f33c0f7be3c20f304301b601257fc167"
   ]
  }
 ],
 "metadata": {
  "kernelspec": {
   "display_name": "Python 3 (ipykernel)",
   "language": "python",
   "name": "python3"
  },
  "language_info": {
   "codemirror_mode": {
    "name": "ipython",
    "version": 3
   },
   "file_extension": ".py",
   "mimetype": "text/x-python",
   "name": "python",
   "nbconvert_exporter": "python",
   "pygments_lexer": "ipython3",
   "version": "3.13.2"
  }
 },
 "nbformat": 4,
 "nbformat_minor": 5
}
